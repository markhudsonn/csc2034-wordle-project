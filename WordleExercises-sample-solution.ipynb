{
 "cells": [
  {
   "attachments": {},
   "cell_type": "markdown",
   "metadata": {},
   "source": [
    "# Modelling the Word Game Wordle\n",
    "\n",
    "The following notebook was created by Ken Pierce. The intention here give some practice in identifying and including pre-conditions, post-conditions, and data invariants using assertions in Python. These are fundamental concepts in creation of formal models, and the use of Python assertions allows us to explore them in a familiar setting.\n",
    "\n",
    "## Wordle\n",
    "\n",
    "Wordle is a word game created by Josh Wardle (https://twitter.com/powerlanguish); it is now owned and published by the New York Times: https://www.nytimes.com/games/wordle/index.html. The instructions for Wordle are as follows:\n",
    "\n",
    "* Guess the WORDLE in 6 tries.\n",
    "* Each guess must be a valid 5 letter word. \n",
    "* The color of the tiles will change to show how close your guess was to the word.\n",
    "* A green letter shows it is in the correct position.\n",
    "* A yellow letter shows it is in the word but in the wrong position.\n",
    "* A grey letter shows that it is not in the word in any position.\n",
    "\n",
    "## Building Models\n",
    "\n",
    "There is no right or wrong way to construct a programme (or formal specification) from natural language specifications. We need to consider the purpose, which guides the abstraction decisions. The steps however can be broadly broken down as:\n",
    "\n",
    "1. Analyse the functional behaviour from the requirements\n",
    "2. Extract a list of possible data types (often from nouns) and functions (often from actions)\n",
    "3. Create a dictionary by giving explanations to items in the list\n",
    "4. Sketch out data types\n",
    "5. Sketch out functions\n",
    "6. Refine and add restrictions\n",
    "7. Review and refine\n",
    "\n",
    "The following will guide us through these steps to define a Wordle game.\n",
    "\n",
    "## Functional Behaviour and Data Types\n",
    "\n",
    "From the description above, we can identify the key elements of the instructions to understand the functionality and suggest data types:\n",
    "\n",
    "* There’s a secret **wordle**\n",
    "    - It has **five** letters (we can infer this though it is not explicit)\n",
    "    - The player loses after **six** tries\n",
    "* The player can make a **guess**\n",
    "    - Guess must be **five** letters\n",
    "    - Guess must be **valid** (= real word?)\n",
    "* The game should output for each letter in a guess:\n",
    "    - If the letter is in the **correct position**\n",
    "    - If the letter in the **wrong position** (but in the word)\n",
    "    - If the letter is **not in the word**"
   ]
  },
  {
   "attachments": {},
   "cell_type": "markdown",
   "metadata": {},
   "source": [
    "# The Programme\n",
    "\n",
    "## Setup\n",
    "\n",
    "Here, we simply include some imports for the later, as well as download a list of valid 5-letter words. Note, if the download  does not work, you can simply define a list of custom list of 5-letter strings, i.e. `WORDS = [\"HELLO\", ...]`."
   ]
  },
  {
   "cell_type": "code",
   "execution_count": 3,
   "metadata": {},
   "outputs": [],
   "source": [
    "from dataclasses import dataclass   # for defining dataclasses\n",
    "from enum import Enum               # for defining enumerations\n",
    "import typing                       # for type hinting\n",
    "import random                       # for selecting a random answer\n",
    "from typing import List             # for defining custom typed lists\n",
    "from urllib.request import urlopen  # to load web data\n",
    "\n",
    "# grab a list of words\n",
    "url = 'https://raw.githubusercontent.com/tabatkins/wordle-list/main/words'\n",
    "WORDS = [word.rstrip().decode('UTF-8').upper() for word in urlopen(url).readlines()]\n",
    "\n"
   ]
  },
  {
   "attachments": {},
   "cell_type": "markdown",
   "metadata": {},
   "source": [
    "## Data Types and Contants\n",
    "\n",
    "Next, we can define some simple data types, and constants that we will need to use, based on the above analysis. Here we define:\n",
    "\n",
    "* The length of a valid word.\n",
    "* The maximum number of guesses.\n",
    "* A `Word` type as an alias of `str`\n",
    "* An enumeration of the three types of clue (i.e. colours)\n",
    "* An enumeration for the game state, either in play, won, or lost."
   ]
  },
  {
   "cell_type": "code",
   "execution_count": 5,
   "metadata": {},
   "outputs": [],
   "source": [
    "# constants\n",
    "WORD_LENGTH = 5 \n",
    "MAX_GUESSES = 6\n",
    "\n",
    "# define Word as an alias for string\n",
    "Word = str\n",
    "\n",
    "# type enumerating the three possible clue colours\n",
    "Clue = Enum('Clue', ['GREEN', 'YELLOW', 'GREY'])\n",
    "\n",
    "# type enumerating the state of the game\n",
    "Gamestate =  Enum('Gamestate', ['WON', 'LOST', 'PLAYING'])"
   ]
  },
  {
   "attachments": {},
   "cell_type": "markdown",
   "metadata": {},
   "source": [
    "## Guess\n",
    "\n",
    "We can now introduce a `Guess` type, which represents a guess after it is processed by the game (i.e. one line of the output). We use the `dataclass' decorator and properties to simplify definition. This includes the word that was guessed, and the clues.\n",
    "\n",
    "1. There are two invariants to add to the `setter` functions; what are these? Complete the assertions and include an appropriate message for when they fail. These should restrict the values that `word` and `clues` can take. \n",
    "2. Create some test values for `Guess` to demonstrate the invariants, i.e.  `g1 = Guess(\"HELLO\", [Clue.YELLOW, ...])`."
   ]
  },
  {
   "cell_type": "code",
   "execution_count": null,
   "metadata": {},
   "outputs": [],
   "source": [
    "@dataclass\n",
    "class Guess:\n",
    "    \"\"\"\n",
    "    A class to represent a guess in Wordle, which is a Word \n",
    "    plus a clue for each letter.\n",
    "    \"\"\"\n",
    "    word: Word\n",
    "    clues: List[Clue]\n",
    "\n",
    "    @property\n",
    "    def word(self) -> Word:\n",
    "        return self._word\n",
    "\n",
    "    @word.setter\n",
    "    def word(self, word: Word):\n",
    "        # invariant\n",
    "        assert len(word) == WORD_LENGTH, \\\n",
    "            f\"Invariant violated: len(Guess.word) <> {WORD_LENGTH}\"  \n",
    "        self._word = word\n",
    "\n",
    "    @property\n",
    "    def clues(self) -> List[Clue]:\n",
    "        return self._clues\n",
    "\n",
    "    @clues.setter\n",
    "    def clues(self, clues: Clue):\n",
    "        # invariant\n",
    "        assert len(clues) == WORD_LENGTH, \\\n",
    "            f\"Invariant violated: len(Guess.clues) <> {WORD_LENGTH}\"              \n",
    "        self._clues = clues\n",
    "\n",
    "    def __repr__(self):\n",
    "        \"\"\"\n",
    "        Custom representation for pretty printing.\n",
    "        \"\"\"\n",
    "        cluestr = [str(self.word[i]) + \": \" + \\\n",
    "            self.clues[i].name for i in range(WORD_LENGTH)]\n",
    "        return f\"{self.word}: {cluestr}\"       \n",
    "\n",
    "g1 = Guess(\"HELLO\", [Clue.YELLOW, Clue.YELLOW, Clue.GREY, Clue.GREEN, Clue.YELLOW])\n",
    "#g2 = Guess(\"HELL\", [Clue.YELLOW, Clue.YELLOW, Clue.GREY, Clue.GREEN, Clue.YELLOW])\n",
    "#g3 = Guess(\"HELLO\", [Clue.YELLOW, Clue.YELLOW, Clue.GREY, Clue.GREEN]) "
   ]
  },
  {
   "attachments": {},
   "cell_type": "markdown",
   "metadata": {},
   "source": [
    "# Auxiliary Functions\n",
    "\n",
    "There are multiple ways to specify the game. The suggestion here is to have a main class `Game` that includes the state and top-level functions including `make_guess`. To help define those, we define two auxiliary functions:\n",
    "\n",
    "* `check_letter`: Compute clue given a character, its position, and word\n",
    "* `check_guess`: Compute clues given a word and the answer\n",
    "\n",
    "## check_letter \n",
    "\n",
    "This function computes the clue (colour) for a given letter, given a word and the index of the letter in the word. We will start with a naïve implementation:\n",
    "\n",
    "* If it's in the right place, return green (i.e. `Clue.GREEN`)\n",
    "* If it’s not there, return grey\n",
    "* Otherwise, return yellow.\n",
    "\n",
    "Complete the function in the following way:\n",
    "\n",
    "3. What pre-conditions should be included? These should restrict the parameters. Add these and an appropriate message. \n",
    "4. Complete the implementation based on the sketch above.\n",
    "5. Include some test cases to check your implementation, e.g. `print(check_letter(\"S\", 0, \"STOUT\"))`."
   ]
  },
  {
   "cell_type": "code",
   "execution_count": 17,
   "metadata": {},
   "outputs": [
    {
     "name": "stdout",
     "output_type": "stream",
     "text": [
      "Clue.GREEN\n",
      "Clue.YELLOW\n",
      "Clue.GREY\n"
     ]
    }
   ],
   "source": [
    "def check_letter(letter: str, index: int, word: Word) -> Clue:\n",
    "    \"\"\"\n",
    "    Given a letter and an index, computes the colour of the blue\n",
    "    based on the word.\n",
    "    \"\"\"\n",
    "    # pre-condition\n",
    "    assert 0 <= index < WORD_LENGTH and \\\n",
    "           len(word) == WORD_LENGTH, \"pre-check_letter failed.\"\n",
    "           \n",
    "    if word[index] == letter: return Clue.GREEN  \n",
    "    elif letter not in word: return Clue.GREY\n",
    "    else: return Clue.YELLOW\n",
    "\n",
    "print(check_letter(\"S\", 0, \"STOUT\"))\n",
    "print(check_letter(\"S\", 3, \"STOUT\"))\n",
    "print(check_letter(\"Z\", 0, \"STOUT\"))"
   ]
  },
  {
   "attachments": {},
   "cell_type": "markdown",
   "metadata": {},
   "source": [
    "## Check Guess\n",
    "\n",
    "Given a word and the correct answer, this function computes the list of clues. This can be achieved by declaring a local variable, and for each letter in the guess, use `check_letter`; we can use `enumerate(guess)` to get the index.\n",
    "\n",
    "6. What pre-conditions should be included? These should restrict the parameters. Add these and an appropriate message. \n",
    "7. Complete the implementation based on the sketch above.\n",
    "8. Include some test cases to check your implementation, e.g. `print(check_guess(\"STAND\", \"STOUT\"))`."
   ]
  },
  {
   "cell_type": "code",
   "execution_count": 18,
   "metadata": {},
   "outputs": [
    {
     "name": "stdout",
     "output_type": "stream",
     "text": [
      "[<Clue.GREEN: 1>, <Clue.GREEN: 1>, <Clue.GREY: 3>, <Clue.GREY: 3>, <Clue.YELLOW: 2>]\n"
     ]
    }
   ],
   "source": [
    "\n",
    "def check_guess(word: Word, guess: Word) -> List[Clue]:\n",
    "    \"\"\"\n",
    "    Given the answer and a guess, compute the list of \n",
    "    clues corresponding to each letter.\n",
    "    \"\"\"\n",
    "    # pre-condition\n",
    "    assert len(word) == WORD_LENGTH and \\\n",
    "           len(guess) == WORD_LENGTH, \"pre-check_guess failed\"\n",
    "           \n",
    "    clues = []\n",
    "    for i,letter in enumerate(guess):\n",
    "        clue = check_letter(guess[i], i ,word)\n",
    "        clues.append(clue)\n",
    "    return clues\n",
    "\n",
    "print(check_guess(\"STAND\", \"STOUT\"))"
   ]
  },
  {
   "attachments": {},
   "cell_type": "markdown",
   "metadata": {},
   "source": [
    "# Game State and Top-level Functionality"
   ]
  },
  {
   "attachments": {},
   "cell_type": "markdown",
   "metadata": {},
   "source": [
    "Here we define a `Game` class; the state is the current wordle (`answer`), the guesses made so far, and the state of the game (playing, won, or lost). Functionlity is included to print a message to the player about the game, and to rest the game when it is over.\n",
    "\n",
    "## make_guess\n",
    "\n",
    "The top-level function is `make_guesss` which takes a single word as a parameter. This function should use `check_guesss` to compute the guess and store it in `guesses`; it should then update the game state by checking if the game has been won (the word is exactly the same as the answer), or lost (the player reached the maximum number of guesses).\n",
    "\n",
    "9. What pre-conditions should be included? These should restrict the parameters and the game state in which a guess is made (e.g. the player should not be able to guess if the game finished). Add these and an appropriate message.\n",
    "10. Complete the implementation based on the sketch above, and play a game! You can alternate `game.make_guess(...)` and `game.print_state()` to play.\n",
    "\n",
    "Note, can you spot the problem with the naïve implementation of `check_letter`?"
   ]
  },
  {
   "cell_type": "code",
   "execution_count": 21,
   "metadata": {},
   "outputs": [
    {
     "name": "stdout",
     "output_type": "stream",
     "text": [
      "Guess the wordle, you have 6 guesses remaining.\n"
     ]
    }
   ],
   "source": [
    "\n",
    "class Game:\n",
    "    answer: Word\n",
    "    guesses: List[Guess]\n",
    "    gstate: Gamestate\n",
    "\n",
    "    def __init__(self, answer=\"STOUT\"):\n",
    "        \"\"\"\n",
    "        Constructor for game.\n",
    "        \"\"\"\n",
    "        self.answer = answer\n",
    "        self.guesses = []\n",
    "        self.gstate = Gamestate.PLAYING\n",
    "\n",
    "    def make_guess(self, word: Word):\n",
    "        \"\"\"\n",
    "        Make a guess at the wordle.\n",
    "        \"\"\"\n",
    "        # make guesses uppercase\n",
    "        word = word.upper() \n",
    "\n",
    "        # pre-condition\n",
    "        assert self.gstate == Gamestate.PLAYING and \\\n",
    "               len(self.guesses) < MAX_GUESSES and \\\n",
    "               word in WORDS, \"pre-guess failed.\"\n",
    "               \n",
    "        self.guesses.append(Guess(word, check_guess(self.answer, word)))\n",
    "        if word == self.answer: self.gstate = Gamestate.WON\n",
    "        elif len(self.guesses) == MAX_GUESSES: self.gstate = Gamestate.LOST\n",
    "\n",
    "    def print_state(self):\n",
    "        \"\"\"\n",
    "        Prints a message to the user based on the current state of the game.\n",
    "        \"\"\"\n",
    "        for guess in self.guesses: print(guess)\n",
    "        if self.gstate == Gamestate.WON: print(f\"You won! You took {len(self.guesses)} guesses.\")\n",
    "        elif self.gstate == Gamestate.LOST: print(f\"You lost! The answer was: {self.answer}.\")\n",
    "        else: print(f\"Guess the wordle, you have {MAX_GUESSES - len(self.guesses)} guesses remaining.\")\n",
    "\n",
    "    def game_over(self) -> bool:\n",
    "        \"\"\"\n",
    "        Yields true if the game is over (won or lost), false otherwise.\n",
    "        \"\"\"\n",
    "        return self.gstate == Gamestate.WON or self.gstate == Gamestate.LOST \n",
    "\n",
    "    def reset(self):\n",
    "        \"\"\"\n",
    "        Reset the game by picking a new word, clearing the guess, and\n",
    "        setting the state back to playing.\n",
    "        \"\"\"\n",
    "        # pre-condition\n",
    "        assert self.game_over(), \"Cannot reset, game in play\"\n",
    "        self.answer = random.choice(WORDS)\n",
    "        self.guesses = []\n",
    "        self.gstate = Gamestate.PLAYING\n",
    "   \n",
    "game = Game()\n",
    "game.print_state()\n",
    "game.make_guess(\"stand\")\n"
   ]
  }
 ],
 "metadata": {
  "kernelspec": {
   "display_name": "Python 3",
   "language": "python",
   "name": "python3"
  },
  "language_info": {
   "codemirror_mode": {
    "name": "ipython",
    "version": 3
   },
   "file_extension": ".py",
   "mimetype": "text/x-python",
   "name": "python",
   "nbconvert_exporter": "python",
   "pygments_lexer": "ipython3",
   "version": "3.8.2 (tags/v3.8.2:7b3ab59, Feb 25 2020, 23:03:10) [MSC v.1916 64 bit (AMD64)]"
  },
  "orig_nbformat": 4,
  "vscode": {
   "interpreter": {
    "hash": "9650cb4e16cdd4a8e8e2d128bf38d875813998db22a3c986335f89e0cb4d7bb2"
   }
  }
 },
 "nbformat": 4,
 "nbformat_minor": 2
}
